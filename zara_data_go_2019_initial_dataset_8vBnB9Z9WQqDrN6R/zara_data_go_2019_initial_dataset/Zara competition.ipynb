{
 "cells": [
  {
   "cell_type": "code",
   "execution_count": 1,
   "metadata": {},
   "outputs": [],
   "source": [
    "import pandas as pd\n",
    "import numpy as np\n",
    "import seaborn as sns\n",
    "\n",
    "# ARIMA example\n",
    "from statsmodels.tsa.arima_model import ARIMA\n",
    "import statsmodels.tsa.stattools as ts"
   ]
  },
  {
   "cell_type": "markdown",
   "metadata": {},
   "source": [
    "# Datasets del challenge"
   ]
  },
  {
   "cell_type": "code",
   "execution_count": 2,
   "metadata": {},
   "outputs": [],
   "source": [
    "d0t63 = pd.read_csv(\"positions_day_0_day_63.csv\", encoding = 'utf8', error_bad_lines=False)"
   ]
  },
  {
   "cell_type": "markdown",
   "metadata": {},
   "source": [
    "Todos los articulos vendidos del dia 0 al 63"
   ]
  },
  {
   "cell_type": "code",
   "execution_count": 3,
   "metadata": {},
   "outputs": [],
   "source": [
    "d71 = pd.read_csv(\"positions_day_71.csv\", encoding = 'utf8', error_bad_lines=False)"
   ]
  },
  {
   "cell_type": "code",
   "execution_count": 4,
   "metadata": {},
   "outputs": [
    {
     "data": {
      "text/html": [
       "<div>\n",
       "<style scoped>\n",
       "    .dataframe tbody tr th:only-of-type {\n",
       "        vertical-align: middle;\n",
       "    }\n",
       "\n",
       "    .dataframe tbody tr th {\n",
       "        vertical-align: top;\n",
       "    }\n",
       "\n",
       "    .dataframe thead th {\n",
       "        text-align: right;\n",
       "    }\n",
       "</style>\n",
       "<table border=\"1\" class=\"dataframe\">\n",
       "  <thead>\n",
       "    <tr style=\"text-align: right;\">\n",
       "      <th></th>\n",
       "      <th>date_number</th>\n",
       "      <th>product_id</th>\n",
       "      <th>category_id</th>\n",
       "      <th>position</th>\n",
       "    </tr>\n",
       "  </thead>\n",
       "  <tbody>\n",
       "    <tr>\n",
       "      <th>0</th>\n",
       "      <td>71</td>\n",
       "      <td>65968023</td>\n",
       "      <td>2312968</td>\n",
       "      <td>6</td>\n",
       "    </tr>\n",
       "    <tr>\n",
       "      <th>1</th>\n",
       "      <td>71</td>\n",
       "      <td>70320877</td>\n",
       "      <td>2312968</td>\n",
       "      <td>24</td>\n",
       "    </tr>\n",
       "    <tr>\n",
       "      <th>2</th>\n",
       "      <td>71</td>\n",
       "      <td>70700940</td>\n",
       "      <td>2312968</td>\n",
       "      <td>22</td>\n",
       "    </tr>\n",
       "    <tr>\n",
       "      <th>3</th>\n",
       "      <td>71</td>\n",
       "      <td>76636979</td>\n",
       "      <td>2312968</td>\n",
       "      <td>1</td>\n",
       "    </tr>\n",
       "    <tr>\n",
       "      <th>4</th>\n",
       "      <td>71</td>\n",
       "      <td>83181798</td>\n",
       "      <td>2312968</td>\n",
       "      <td>0</td>\n",
       "    </tr>\n",
       "  </tbody>\n",
       "</table>\n",
       "</div>"
      ],
      "text/plain": [
       "   date_number  product_id  category_id  position\n",
       "0           71    65968023      2312968         6\n",
       "1           71    70320877      2312968        24\n",
       "2           71    70700940      2312968        22\n",
       "3           71    76636979      2312968         1\n",
       "4           71    83181798      2312968         0"
      ]
     },
     "execution_count": 4,
     "metadata": {},
     "output_type": "execute_result"
    }
   ],
   "source": [
    "d71.head()"
   ]
  },
  {
   "cell_type": "markdown",
   "metadata": {},
   "source": [
    "Todos los articulos vendidos el dia 71"
   ]
  },
  {
   "cell_type": "code",
   "execution_count": 5,
   "metadata": {},
   "outputs": [],
   "source": [
    "df = pd.read_csv(\"stock_and_sales_day_0_day_63.csv\", encoding = 'utf8', error_bad_lines=False)"
   ]
  },
  {
   "cell_type": "markdown",
   "metadata": {},
   "source": [
    "Ventas del dia 0 al 63"
   ]
  },
  {
   "cell_type": "code",
   "execution_count": 6,
   "metadata": {},
   "outputs": [],
   "source": [
    "sr71t72 = pd.read_csv(\"stock_day_71_stock_replenishment_days_72-77.csv\", encoding = 'utf8', error_bad_lines=False)"
   ]
  },
  {
   "cell_type": "markdown",
   "metadata": {},
   "source": [
    "Reponer productos en la semana de 72 a 77"
   ]
  },
  {
   "cell_type": "code",
   "execution_count": 7,
   "metadata": {},
   "outputs": [],
   "source": [
    "blocks = pd.read_csv(\"product_blocks.csv\", encoding = 'utf8', error_bad_lines=False)"
   ]
  },
  {
   "cell_type": "markdown",
   "metadata": {},
   "source": [
    "Bloques a apostar"
   ]
  },
  {
   "cell_type": "code",
   "execution_count": 8,
   "metadata": {},
   "outputs": [],
   "source": [
    "products = pd.read_csv(\"products.csv\", encoding = 'utf8', error_bad_lines=False)"
   ]
  },
  {
   "cell_type": "markdown",
   "metadata": {},
   "source": [
    "Productos y precios del mismo"
   ]
  },
  {
   "cell_type": "markdown",
   "metadata": {},
   "source": [
    "# Data navigation"
   ]
  },
  {
   "cell_type": "code",
   "execution_count": 9,
   "metadata": {},
   "outputs": [
    {
     "data": {
      "text/html": [
       "<div>\n",
       "<style scoped>\n",
       "    .dataframe tbody tr th:only-of-type {\n",
       "        vertical-align: middle;\n",
       "    }\n",
       "\n",
       "    .dataframe tbody tr th {\n",
       "        vertical-align: top;\n",
       "    }\n",
       "\n",
       "    .dataframe thead th {\n",
       "        text-align: right;\n",
       "    }\n",
       "</style>\n",
       "<table border=\"1\" class=\"dataframe\">\n",
       "  <thead>\n",
       "    <tr style=\"text-align: right;\">\n",
       "      <th></th>\n",
       "      <th>date_number</th>\n",
       "      <th>product_id</th>\n",
       "      <th>color_id</th>\n",
       "      <th>size_id</th>\n",
       "      <th>sales</th>\n",
       "      <th>stock</th>\n",
       "    </tr>\n",
       "  </thead>\n",
       "  <tbody>\n",
       "    <tr>\n",
       "      <th>0</th>\n",
       "      <td>0</td>\n",
       "      <td>310130</td>\n",
       "      <td>78467031</td>\n",
       "      <td>7026791</td>\n",
       "      <td>1</td>\n",
       "      <td>93</td>\n",
       "    </tr>\n",
       "    <tr>\n",
       "      <th>1</th>\n",
       "      <td>0</td>\n",
       "      <td>310130</td>\n",
       "      <td>78467031</td>\n",
       "      <td>8015276</td>\n",
       "      <td>2</td>\n",
       "      <td>62</td>\n",
       "    </tr>\n",
       "    <tr>\n",
       "      <th>2</th>\n",
       "      <td>0</td>\n",
       "      <td>310130</td>\n",
       "      <td>78467031</td>\n",
       "      <td>452052101</td>\n",
       "      <td>1</td>\n",
       "      <td>18</td>\n",
       "    </tr>\n",
       "    <tr>\n",
       "      <th>3</th>\n",
       "      <td>0</td>\n",
       "      <td>310130</td>\n",
       "      <td>78467031</td>\n",
       "      <td>541898038</td>\n",
       "      <td>2</td>\n",
       "      <td>42</td>\n",
       "    </tr>\n",
       "    <tr>\n",
       "      <th>4</th>\n",
       "      <td>0</td>\n",
       "      <td>310130</td>\n",
       "      <td>78467031</td>\n",
       "      <td>558685710</td>\n",
       "      <td>3</td>\n",
       "      <td>113</td>\n",
       "    </tr>\n",
       "  </tbody>\n",
       "</table>\n",
       "</div>"
      ],
      "text/plain": [
       "   date_number  product_id  color_id    size_id  sales  stock\n",
       "0            0      310130  78467031    7026791      1     93\n",
       "1            0      310130  78467031    8015276      2     62\n",
       "2            0      310130  78467031  452052101      1     18\n",
       "3            0      310130  78467031  541898038      2     42\n",
       "4            0      310130  78467031  558685710      3    113"
      ]
     },
     "execution_count": 9,
     "metadata": {},
     "output_type": "execute_result"
    }
   ],
   "source": [
    "df.head()"
   ]
  },
  {
   "cell_type": "code",
   "execution_count": 10,
   "metadata": {},
   "outputs": [],
   "source": [
    "d0t63.drop([\"category_id\"], axis=1, inplace= True)"
   ]
  },
  {
   "cell_type": "code",
   "execution_count": 11,
   "metadata": {},
   "outputs": [],
   "source": [
    "med = d0t63.groupby([\"product_id\", \"date_number\"], as_index=False).mean()"
   ]
  },
  {
   "cell_type": "code",
   "execution_count": 12,
   "metadata": {},
   "outputs": [],
   "source": [
    "med.rename(columns={\"position\": \"mean_position\"}, inplace= True)"
   ]
  },
  {
   "cell_type": "code",
   "execution_count": 13,
   "metadata": {},
   "outputs": [],
   "source": [
    "mini = d0t63.groupby([\"product_id\", \"date_number\"], as_index=False).min()"
   ]
  },
  {
   "cell_type": "code",
   "execution_count": 14,
   "metadata": {},
   "outputs": [],
   "source": [
    "mini.rename(columns={\"position\": \"min_position\"}, inplace= True)"
   ]
  },
  {
   "cell_type": "code",
   "execution_count": 15,
   "metadata": {},
   "outputs": [],
   "source": [
    "df = df.merge(blocks, on=['product_id'])"
   ]
  },
  {
   "cell_type": "code",
   "execution_count": 16,
   "metadata": {},
   "outputs": [],
   "source": [
    "df = df.merge(products, on=['product_id'])"
   ]
  },
  {
   "cell_type": "code",
   "execution_count": 17,
   "metadata": {},
   "outputs": [],
   "source": [
    "df = df.merge(mini, on=['product_id',\"date_number\"], how=\"left\")"
   ]
  },
  {
   "cell_type": "code",
   "execution_count": 18,
   "metadata": {},
   "outputs": [],
   "source": [
    "df = df.merge(med, on=['product_id',\"date_number\"], how=\"left\")"
   ]
  },
  {
   "cell_type": "code",
   "execution_count": null,
   "metadata": {},
   "outputs": [
    {
     "data": {
      "text/html": [
       "<div>\n",
       "<style scoped>\n",
       "    .dataframe tbody tr th:only-of-type {\n",
       "        vertical-align: middle;\n",
       "    }\n",
       "\n",
       "    .dataframe tbody tr th {\n",
       "        vertical-align: top;\n",
       "    }\n",
       "\n",
       "    .dataframe thead th {\n",
       "        text-align: right;\n",
       "    }\n",
       "</style>\n",
       "<table border=\"1\" class=\"dataframe\">\n",
       "  <thead>\n",
       "    <tr style=\"text-align: right;\">\n",
       "      <th></th>\n",
       "      <th>date_number</th>\n",
       "      <th>product_id</th>\n",
       "      <th>color_id</th>\n",
       "      <th>size_id</th>\n",
       "      <th>sales</th>\n",
       "      <th>stock</th>\n",
       "      <th>block_id</th>\n",
       "      <th>family_id</th>\n",
       "      <th>subfamily_id</th>\n",
       "      <th>price</th>\n",
       "      <th>min_position</th>\n",
       "      <th>mean_position</th>\n",
       "    </tr>\n",
       "  </thead>\n",
       "  <tbody>\n",
       "    <tr>\n",
       "      <th>0</th>\n",
       "      <td>0</td>\n",
       "      <td>310130</td>\n",
       "      <td>78467031</td>\n",
       "      <td>7026791</td>\n",
       "      <td>1</td>\n",
       "      <td>93</td>\n",
       "      <td>1726</td>\n",
       "      <td>679611953</td>\n",
       "      <td>533441312</td>\n",
       "      <td>12.95</td>\n",
       "      <td>3.0</td>\n",
       "      <td>54.333333</td>\n",
       "    </tr>\n",
       "    <tr>\n",
       "      <th>1</th>\n",
       "      <td>0</td>\n",
       "      <td>310130</td>\n",
       "      <td>78467031</td>\n",
       "      <td>8015276</td>\n",
       "      <td>2</td>\n",
       "      <td>62</td>\n",
       "      <td>1726</td>\n",
       "      <td>679611953</td>\n",
       "      <td>533441312</td>\n",
       "      <td>12.95</td>\n",
       "      <td>3.0</td>\n",
       "      <td>54.333333</td>\n",
       "    </tr>\n",
       "    <tr>\n",
       "      <th>2</th>\n",
       "      <td>0</td>\n",
       "      <td>310130</td>\n",
       "      <td>78467031</td>\n",
       "      <td>452052101</td>\n",
       "      <td>1</td>\n",
       "      <td>18</td>\n",
       "      <td>1726</td>\n",
       "      <td>679611953</td>\n",
       "      <td>533441312</td>\n",
       "      <td>12.95</td>\n",
       "      <td>3.0</td>\n",
       "      <td>54.333333</td>\n",
       "    </tr>\n",
       "    <tr>\n",
       "      <th>3</th>\n",
       "      <td>0</td>\n",
       "      <td>310130</td>\n",
       "      <td>78467031</td>\n",
       "      <td>541898038</td>\n",
       "      <td>2</td>\n",
       "      <td>42</td>\n",
       "      <td>1726</td>\n",
       "      <td>679611953</td>\n",
       "      <td>533441312</td>\n",
       "      <td>12.95</td>\n",
       "      <td>3.0</td>\n",
       "      <td>54.333333</td>\n",
       "    </tr>\n",
       "    <tr>\n",
       "      <th>4</th>\n",
       "      <td>0</td>\n",
       "      <td>310130</td>\n",
       "      <td>78467031</td>\n",
       "      <td>558685710</td>\n",
       "      <td>3</td>\n",
       "      <td>113</td>\n",
       "      <td>1726</td>\n",
       "      <td>679611953</td>\n",
       "      <td>533441312</td>\n",
       "      <td>12.95</td>\n",
       "      <td>3.0</td>\n",
       "      <td>54.333333</td>\n",
       "    </tr>\n",
       "  </tbody>\n",
       "</table>\n",
       "</div>"
      ],
      "text/plain": [
       "   date_number  product_id  color_id    size_id  sales  stock  block_id  \\\n",
       "0            0      310130  78467031    7026791      1     93      1726   \n",
       "1            0      310130  78467031    8015276      2     62      1726   \n",
       "2            0      310130  78467031  452052101      1     18      1726   \n",
       "3            0      310130  78467031  541898038      2     42      1726   \n",
       "4            0      310130  78467031  558685710      3    113      1726   \n",
       "\n",
       "   family_id  subfamily_id  price  min_position  mean_position  \n",
       "0  679611953     533441312  12.95           3.0      54.333333  \n",
       "1  679611953     533441312  12.95           3.0      54.333333  \n",
       "2  679611953     533441312  12.95           3.0      54.333333  \n",
       "3  679611953     533441312  12.95           3.0      54.333333  \n",
       "4  679611953     533441312  12.95           3.0      54.333333  "
      ]
     },
     "execution_count": 19,
     "metadata": {},
     "output_type": "execute_result"
    }
   ],
   "source": [
    "df.head()"
   ]
  },
  {
   "cell_type": "code",
   "execution_count": null,
   "metadata": {},
   "outputs": [],
   "source": [
    "df.fillna(0, inplace=True)"
   ]
  },
  {
   "cell_type": "code",
   "execution_count": null,
   "metadata": {},
   "outputs": [
    {
     "data": {
      "text/plain": [
       "59    46636\n",
       "60    46601\n",
       "58    46028\n",
       "61    45845\n",
       "57    45687\n",
       "63    45583\n",
       "62    45246\n",
       "56    44905\n",
       "55    44384\n",
       "53    44320\n",
       "54    44278\n",
       "45    43328\n",
       "52    43293\n",
       "46    43207\n",
       "50    42712\n",
       "49    42591\n",
       "44    42581\n",
       "43    42554\n",
       "51    42493\n",
       "47    42416\n",
       "48    42101\n",
       "42    41586\n",
       "41    41254\n",
       "39    41155\n",
       "40    41040\n",
       "38    40864\n",
       "37    39956\n",
       "36    39535\n",
       "35    38720\n",
       "32    38461\n",
       "      ...  \n",
       "29    37322\n",
       "28    36567\n",
       "27    36335\n",
       "26    36147\n",
       "25    36029\n",
       "24    34864\n",
       "22    34530\n",
       "21    34494\n",
       "23    34296\n",
       "19    34230\n",
       "18    34015\n",
       "20    33942\n",
       "17    33739\n",
       "15    33129\n",
       "16    32960\n",
       "10    32796\n",
       "14    32767\n",
       "11    32415\n",
       "13    32164\n",
       "12    31880\n",
       "9     30835\n",
       "8     30826\n",
       "7     30236\n",
       "5     29831\n",
       "4     29764\n",
       "6     29577\n",
       "3     29377\n",
       "1     28810\n",
       "2     28723\n",
       "0     28105\n",
       "Name: date_number, Length: 64, dtype: int64"
      ]
     },
     "execution_count": 21,
     "metadata": {},
     "output_type": "execute_result"
    }
   ],
   "source": [
    "df['date_number'].value_counts()"
   ]
  },
  {
   "cell_type": "code",
   "execution_count": null,
   "metadata": {},
   "outputs": [],
   "source": [
    "def cambio(columna):\n",
    "    dic = dict(df[columna].value_counts())\n",
    "    value = 0\n",
    "    for x in dic:\n",
    "        value +=1\n",
    "        dic[x] = value\n",
    "\n",
    "    return df[columna].map(dic)"
   ]
  },
  {
   "cell_type": "code",
   "execution_count": null,
   "metadata": {},
   "outputs": [],
   "source": [
    "df[\"dia\"] = df.apply(lambda row: row[\"date_number\"] if row[\"date_number\"] < 7 else row[\"date_number\"] -7 * int(row[\"date_number\"]/7), axis=1)"
   ]
  },
  {
   "cell_type": "code",
   "execution_count": null,
   "metadata": {},
   "outputs": [
    {
     "data": {
      "text/html": [
       "<div>\n",
       "<style scoped>\n",
       "    .dataframe tbody tr th:only-of-type {\n",
       "        vertical-align: middle;\n",
       "    }\n",
       "\n",
       "    .dataframe tbody tr th {\n",
       "        vertical-align: top;\n",
       "    }\n",
       "\n",
       "    .dataframe thead th {\n",
       "        text-align: right;\n",
       "    }\n",
       "</style>\n",
       "<table border=\"1\" class=\"dataframe\">\n",
       "  <thead>\n",
       "    <tr style=\"text-align: right;\">\n",
       "      <th></th>\n",
       "      <th>date_number</th>\n",
       "      <th>product_id</th>\n",
       "      <th>color_id</th>\n",
       "      <th>size_id</th>\n",
       "      <th>sales</th>\n",
       "      <th>stock</th>\n",
       "      <th>block_id</th>\n",
       "      <th>family_id</th>\n",
       "      <th>subfamily_id</th>\n",
       "      <th>price</th>\n",
       "      <th>min_position</th>\n",
       "      <th>mean_position</th>\n",
       "      <th>dia</th>\n",
       "    </tr>\n",
       "  </thead>\n",
       "  <tbody>\n",
       "    <tr>\n",
       "      <th>0</th>\n",
       "      <td>0</td>\n",
       "      <td>310130</td>\n",
       "      <td>78467031</td>\n",
       "      <td>7026791</td>\n",
       "      <td>1</td>\n",
       "      <td>93</td>\n",
       "      <td>1726</td>\n",
       "      <td>679611953</td>\n",
       "      <td>533441312</td>\n",
       "      <td>12.95</td>\n",
       "      <td>3.0</td>\n",
       "      <td>54.333333</td>\n",
       "      <td>0.0</td>\n",
       "    </tr>\n",
       "    <tr>\n",
       "      <th>1</th>\n",
       "      <td>0</td>\n",
       "      <td>310130</td>\n",
       "      <td>78467031</td>\n",
       "      <td>8015276</td>\n",
       "      <td>2</td>\n",
       "      <td>62</td>\n",
       "      <td>1726</td>\n",
       "      <td>679611953</td>\n",
       "      <td>533441312</td>\n",
       "      <td>12.95</td>\n",
       "      <td>3.0</td>\n",
       "      <td>54.333333</td>\n",
       "      <td>0.0</td>\n",
       "    </tr>\n",
       "    <tr>\n",
       "      <th>2</th>\n",
       "      <td>0</td>\n",
       "      <td>310130</td>\n",
       "      <td>78467031</td>\n",
       "      <td>452052101</td>\n",
       "      <td>1</td>\n",
       "      <td>18</td>\n",
       "      <td>1726</td>\n",
       "      <td>679611953</td>\n",
       "      <td>533441312</td>\n",
       "      <td>12.95</td>\n",
       "      <td>3.0</td>\n",
       "      <td>54.333333</td>\n",
       "      <td>0.0</td>\n",
       "    </tr>\n",
       "    <tr>\n",
       "      <th>3</th>\n",
       "      <td>0</td>\n",
       "      <td>310130</td>\n",
       "      <td>78467031</td>\n",
       "      <td>541898038</td>\n",
       "      <td>2</td>\n",
       "      <td>42</td>\n",
       "      <td>1726</td>\n",
       "      <td>679611953</td>\n",
       "      <td>533441312</td>\n",
       "      <td>12.95</td>\n",
       "      <td>3.0</td>\n",
       "      <td>54.333333</td>\n",
       "      <td>0.0</td>\n",
       "    </tr>\n",
       "    <tr>\n",
       "      <th>4</th>\n",
       "      <td>0</td>\n",
       "      <td>310130</td>\n",
       "      <td>78467031</td>\n",
       "      <td>558685710</td>\n",
       "      <td>3</td>\n",
       "      <td>113</td>\n",
       "      <td>1726</td>\n",
       "      <td>679611953</td>\n",
       "      <td>533441312</td>\n",
       "      <td>12.95</td>\n",
       "      <td>3.0</td>\n",
       "      <td>54.333333</td>\n",
       "      <td>0.0</td>\n",
       "    </tr>\n",
       "  </tbody>\n",
       "</table>\n",
       "</div>"
      ],
      "text/plain": [
       "   date_number  product_id  color_id    size_id  sales  stock  block_id  \\\n",
       "0            0      310130  78467031    7026791      1     93      1726   \n",
       "1            0      310130  78467031    8015276      2     62      1726   \n",
       "2            0      310130  78467031  452052101      1     18      1726   \n",
       "3            0      310130  78467031  541898038      2     42      1726   \n",
       "4            0      310130  78467031  558685710      3    113      1726   \n",
       "\n",
       "   family_id  subfamily_id  price  min_position  mean_position  dia  \n",
       "0  679611953     533441312  12.95           3.0      54.333333  0.0  \n",
       "1  679611953     533441312  12.95           3.0      54.333333  0.0  \n",
       "2  679611953     533441312  12.95           3.0      54.333333  0.0  \n",
       "3  679611953     533441312  12.95           3.0      54.333333  0.0  \n",
       "4  679611953     533441312  12.95           3.0      54.333333  0.0  "
      ]
     },
     "execution_count": 24,
     "metadata": {},
     "output_type": "execute_result"
    }
   ],
   "source": [
    "df.head()"
   ]
  },
  {
   "cell_type": "code",
   "execution_count": null,
   "metadata": {},
   "outputs": [],
   "source": [
    "#df[\"subfamily_id\"]=cambio('subfamily_id')\n",
    "#df[\"size_id\"]=cambio('size_id')\n",
    "#df[\"family_id\"]=cambio('family_id')\n",
    "#df[\"product_id\"]=cambio('product_id')\n",
    "#df['color_id']=cambio('color_id')\n",
    "#df['block_id']=cambio('block_id')"
   ]
  },
  {
   "cell_type": "code",
   "execution_count": null,
   "metadata": {},
   "outputs": [
    {
     "data": {
      "text/plain": [
       "0.0    375554\n",
       "4.0    345967\n",
       "5.0    344090\n",
       "6.0    342808\n",
       "3.0    342317\n",
       "2.0    335220\n",
       "1.0    335105\n",
       "Name: dia, dtype: int64"
      ]
     },
     "execution_count": 26,
     "metadata": {},
     "output_type": "execute_result"
    }
   ],
   "source": [
    "df['dia'].value_counts()"
   ]
  },
  {
   "cell_type": "code",
   "execution_count": null,
   "metadata": {},
   "outputs": [],
   "source": [
    "import sklearn\n",
    "from sklearn import svm, preprocessing\n",
    "from sklearn.model_selection import train_test_split\n",
    "from sklearn.linear_model import LassoLarsCV\n",
    "from sklearn.metrics import mean_absolute_error\n",
    "from sklearn.metrics import mean_squared_error\n",
    "from sklearn.linear_model import SGDClassifier\n",
    "from sklearn.linear_model import SGDRegressor"
   ]
  },
  {
   "cell_type": "code",
   "execution_count": null,
   "metadata": {},
   "outputs": [
    {
     "name": "stderr",
     "output_type": "stream",
     "text": [
      "C:\\Users\\aleja\\Anaconda3\\lib\\site-packages\\sklearn\\preprocessing\\data.py:176: UserWarning: Numerical issues were encountered when centering the data and might not be solved. Dataset may contain too large values. You may need to prescale your features.\n",
      "  warnings.warn(\"Numerical issues were encountered \"\n"
     ]
    }
   ],
   "source": [
    "X = df.drop(\"sales\", axis=1).values\n",
    "y = df[\"sales\"].values\n",
    "X = preprocessing.scale(X)\n",
    "\n",
    "X_train, X_test, y_train, y_test = train_test_split(X, y, test_size=0.1, shuffle=True)"
   ]
  },
  {
   "cell_type": "code",
   "execution_count": null,
   "metadata": {},
   "outputs": [],
   "source": [
    "reg = svm.SVR(kernel='poly', gamma = 'scale')\n",
    "reg.fit(X_train, y_train)\n",
    "y_pred = reg.predict(X_test)\n",
    "\n",
    "print(f\"Accuracy : {reg.score(X_test, y_test)*100}%\\nMean absolute error: {mean_absolute_error(y_test, y_pred)}\\nMean squared error: {mean_squared_error(y_test, y_pred)}\")"
   ]
  },
  {
   "cell_type": "code",
   "execution_count": null,
   "metadata": {},
   "outputs": [],
   "source": [
    "df.head()"
   ]
  }
 ],
 "metadata": {
  "kernelspec": {
   "display_name": "Python 3",
   "language": "python",
   "name": "python3"
  },
  "language_info": {
   "codemirror_mode": {
    "name": "ipython",
    "version": 3
   },
   "file_extension": ".py",
   "mimetype": "text/x-python",
   "name": "python",
   "nbconvert_exporter": "python",
   "pygments_lexer": "ipython3",
   "version": "3.7.1"
  }
 },
 "nbformat": 4,
 "nbformat_minor": 2
}
